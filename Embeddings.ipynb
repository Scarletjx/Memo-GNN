{
 "cells": [
  {
   "cell_type": "code",
   "execution_count": 1,
   "id": "d76f99e5",
   "metadata": {},
   "outputs": [],
   "source": [
    "import os \n",
    "import numpy as np\n",
    "import nltk\n",
    "from nltk.corpus import gutenberg\n",
    "from sklearn.linear_model import Ridge\n",
    "from sklearn.decomposition import PCA\n",
    "from gensim.models import Word2Vec"
   ]
  },
  {
   "cell_type": "code",
   "execution_count": 2,
   "id": "e90f40f6",
   "metadata": {},
   "outputs": [
    {
     "name": "stderr",
     "output_type": "stream",
     "text": [
      "[nltk_data] Downloading package punkt to\n",
      "[nltk_data]     /vol/bitbucket/sx420/4D-FedGNN-Plus...\n",
      "[nltk_data]   Package punkt is already up-to-date!\n",
      "[nltk_data] Downloading package gutenberg to\n",
      "[nltk_data]     /vol/bitbucket/sx420/4D-FedGNN-Plus...\n",
      "[nltk_data]   Package gutenberg is already up-to-date!\n"
     ]
    }
   ],
   "source": [
    "# Set NLTK_DATA environment variable to the current directory\n",
    "os.environ['NLTK_DATA'] = os.getcwd()\n",
    "\n",
    "# Download the Gutenberg corpus\n",
    "nltk.download('punkt', download_dir=os.getcwd())\n",
    "\n",
    "# Download the Gutenberg corpus\n",
    "nltk.download('gutenberg', download_dir=os.getcwd())\n",
    "\n",
    "# Load a sample text from the Gutenberg corpus\n",
    "corpus = gutenberg.sents('austen-emma.txt')\n",
    "\n",
    "# Train a Word2Vec model on the corpus\n",
    "model = Word2Vec(corpus, vector_size=1, window=5, min_count=1, workers=4)"
   ]
  },
  {
   "cell_type": "code",
   "execution_count": 3,
   "id": "057564af",
   "metadata": {},
   "outputs": [],
   "source": [
    "def preprocess_text(corpus, model):\n",
    "    embeddings = []\n",
    "    for sentence in corpus:\n",
    "        embeddings.append([model.wv[word] for word in sentence if word in model.wv])\n",
    "    # Flatten the list of lists\n",
    "    embeddings = [item for sublist in embeddings for item in sublist]\n",
    "    return np.array(embeddings)"
   ]
  },
  {
   "cell_type": "code",
   "execution_count": 4,
   "id": "081b7893",
   "metadata": {},
   "outputs": [],
   "source": [
    "embeddings = preprocess_text(corpus, model)"
   ]
  },
  {
   "cell_type": "code",
   "execution_count": 5,
   "id": "49a26c8f",
   "metadata": {},
   "outputs": [],
   "source": [
    "np.save('gutenberg_embeddings.npy', embeddings)"
   ]
  }
 ],
 "metadata": {
  "kernelspec": {
   "display_name": "Python 3 (ipykernel)",
   "language": "python",
   "name": "python3"
  },
  "language_info": {
   "codemirror_mode": {
    "name": "ipython",
    "version": 3
   },
   "file_extension": ".py",
   "mimetype": "text/x-python",
   "name": "python",
   "nbconvert_exporter": "python",
   "pygments_lexer": "ipython3",
   "version": "3.8.18"
  }
 },
 "nbformat": 4,
 "nbformat_minor": 5
}
