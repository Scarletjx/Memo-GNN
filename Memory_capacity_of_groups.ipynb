{
 "cells": [
  {
   "cell_type": "code",
   "execution_count": 30,
   "id": "c5e60084",
   "metadata": {},
   "outputs": [],
   "source": [
    "import os\n",
    "import numpy as np\n",
    "import numpy as np\n",
    "import pandas as pd\n",
    "import pickle\n",
    "import matplotlib.pyplot as plt\n",
    "import seaborn as sns\n",
    "from scipy.io import loadmat\n",
    "from pathlib import Path\n",
    "from echoes import ESNRegressor\n",
    "from scipy.stats import pearsonr\n",
    "from scipy.stats import ttest_ind\n",
    "from sklearn.model_selection import ParameterGrid"
   ]
  },
  {
   "cell_type": "code",
   "execution_count": 2,
   "id": "cc358f4e",
   "metadata": {},
   "outputs": [],
   "source": [
    "def preprocess_connectivity_matrix(connectivity_matrix):\n",
    "    # set zero diagonal\n",
    "    np.fill_diagonal(connectivity_matrix, 0)\n",
    "\n",
    "    # remove inf and nan\n",
    "    connectivity_matrix[np.logical_or(np.isinf(connectivity_matrix), np.isnan(connectivity_matrix))] = 0\n",
    "\n",
    "    # remove negatives \n",
    "    connectivity_matrix[connectivity_matrix < 0] = 0\n",
    "    \n",
    "    # make sure weights are float\n",
    "    connectivity_matrix = connectivity_matrix.astype(float)\n",
    "    \n",
    "    return connectivity_matrix"
   ]
  },
  {
   "cell_type": "code",
   "execution_count": 3,
   "id": "1a5c9073",
   "metadata": {},
   "outputs": [],
   "source": [
    "def shift_array(arr, n):\n",
    "    # Shift the array by n positions\n",
    "    shifted_arr = np.roll(arr, n)\n",
    "    shifted_arr[:n] = 0\n",
    "\n",
    "    return shifted_arr\n",
    "\n",
    "def generate_data(time_steps):\n",
    "    return np.random.uniform(-0.5, 0.5, time_steps)\n",
    "\n",
    "def compute_memory_capacity(esn, train_data, test_data, max_lag):\n",
    "    # Compute memory capacity for each lag\n",
    "    total_memory_capacity = 0\n",
    "    correlations = np.zeros(max_lag)\n",
    "    for lag in range(1, max_lag + 1):\n",
    "        X_train = train_data.reshape(-1, 1)\n",
    "        y_train = shift_array(train_data, lag)\n",
    "        X_test = test_data.reshape(-1, 1)\n",
    "        y_test = shift_array(test_data, lag)\n",
    "    \n",
    "        # Train the ESN\n",
    "        esn.fit(X_train, y_train)\n",
    "\n",
    "        # Predict using the trained ESN\n",
    "        predicted = esn.predict(X_test)\n",
    "        # Calculate the squared correlation coefficient\n",
    "        correlation, _ = pearsonr(predicted.flatten(), y_test)\n",
    "        correlations[lag-1] = correlation\n",
    "        total_memory_capacity += correlation ** 2\n",
    "    return correlations, total_memory_capacity"
   ]
  },
  {
   "cell_type": "code",
   "execution_count": 4,
   "id": "e3bdce00",
   "metadata": {},
   "outputs": [
    {
     "ename": "KeyboardInterrupt",
     "evalue": "",
     "output_type": "error",
     "traceback": [
      "\u001b[0;31m---------------------------------------------------------------------------\u001b[0m",
      "\u001b[0;31mKeyboardInterrupt\u001b[0m                         Traceback (most recent call last)",
      "\u001b[0;32m/tmp/ipykernel_1101579/1659935995.py\u001b[0m in \u001b[0;36m<module>\u001b[0;34m\u001b[0m\n\u001b[1;32m     21\u001b[0m \u001b[0;32mfor\u001b[0m \u001b[0mparams\u001b[0m \u001b[0;32min\u001b[0m \u001b[0mgrid\u001b[0m\u001b[0;34m:\u001b[0m\u001b[0;34m\u001b[0m\u001b[0;34m\u001b[0m\u001b[0m\n\u001b[1;32m     22\u001b[0m     \u001b[0mesn\u001b[0m \u001b[0;34m=\u001b[0m \u001b[0mESNRegressor\u001b[0m\u001b[0;34m(\u001b[0m\u001b[0;34m**\u001b[0m\u001b[0mparams\u001b[0m\u001b[0;34m)\u001b[0m\u001b[0;34m\u001b[0m\u001b[0;34m\u001b[0m\u001b[0m\n\u001b[0;32m---> 23\u001b[0;31m     \u001b[0m_\u001b[0m\u001b[0;34m,\u001b[0m \u001b[0mtotal_memory_capacity\u001b[0m \u001b[0;34m=\u001b[0m \u001b[0mcompute_memory_capacity\u001b[0m\u001b[0;34m(\u001b[0m\u001b[0mesn\u001b[0m\u001b[0;34m,\u001b[0m \u001b[0mtrain_data\u001b[0m\u001b[0;34m,\u001b[0m \u001b[0mtest_data\u001b[0m\u001b[0;34m,\u001b[0m \u001b[0mmax_lag\u001b[0m\u001b[0;34m)\u001b[0m\u001b[0;34m\u001b[0m\u001b[0;34m\u001b[0m\u001b[0m\n\u001b[0m\u001b[1;32m     24\u001b[0m \u001b[0;34m\u001b[0m\u001b[0m\n\u001b[1;32m     25\u001b[0m     \u001b[0;32mif\u001b[0m \u001b[0mtotal_memory_capacity\u001b[0m \u001b[0;34m>\u001b[0m \u001b[0mbest_score\u001b[0m\u001b[0;34m:\u001b[0m\u001b[0;34m\u001b[0m\u001b[0;34m\u001b[0m\u001b[0m\n",
      "\u001b[0;32m/tmp/ipykernel_1101579/454897172.py\u001b[0m in \u001b[0;36mcompute_memory_capacity\u001b[0;34m(esn, train_data, test_data, max_lag)\u001b[0m\n\u001b[1;32m     23\u001b[0m \u001b[0;34m\u001b[0m\u001b[0m\n\u001b[1;32m     24\u001b[0m         \u001b[0;31m# Predict using the trained ESN\u001b[0m\u001b[0;34m\u001b[0m\u001b[0;34m\u001b[0m\u001b[0;34m\u001b[0m\u001b[0m\n\u001b[0;32m---> 25\u001b[0;31m         \u001b[0mpredicted\u001b[0m \u001b[0;34m=\u001b[0m \u001b[0mesn\u001b[0m\u001b[0;34m.\u001b[0m\u001b[0mpredict\u001b[0m\u001b[0;34m(\u001b[0m\u001b[0mX_test\u001b[0m\u001b[0;34m)\u001b[0m\u001b[0;34m\u001b[0m\u001b[0;34m\u001b[0m\u001b[0m\n\u001b[0m\u001b[1;32m     26\u001b[0m         \u001b[0;31m# Calculate the squared correlation coefficient\u001b[0m\u001b[0;34m\u001b[0m\u001b[0;34m\u001b[0m\u001b[0;34m\u001b[0m\u001b[0m\n\u001b[1;32m     27\u001b[0m         \u001b[0mcorrelation\u001b[0m\u001b[0;34m,\u001b[0m \u001b[0m_\u001b[0m \u001b[0;34m=\u001b[0m \u001b[0mpearsonr\u001b[0m\u001b[0;34m(\u001b[0m\u001b[0mpredicted\u001b[0m\u001b[0;34m.\u001b[0m\u001b[0mflatten\u001b[0m\u001b[0;34m(\u001b[0m\u001b[0;34m)\u001b[0m\u001b[0;34m,\u001b[0m \u001b[0my_test\u001b[0m\u001b[0;34m)\u001b[0m\u001b[0;34m\u001b[0m\u001b[0;34m\u001b[0m\u001b[0m\n",
      "\u001b[0;32m/vol/bitbucket/sx420/miniconda3/envs/test/lib/python3.8/site-packages/echoes/esn/_regressor.py\u001b[0m in \u001b[0;36mpredict\u001b[0;34m(self, X)\u001b[0m\n\u001b[1;32m    249\u001b[0m                 \u001b[0mfull_states\u001b[0m \u001b[0;34m=\u001b[0m \u001b[0mnp\u001b[0m\u001b[0;34m.\u001b[0m\u001b[0mconcatenate\u001b[0m\u001b[0;34m(\u001b[0m\u001b[0;34m[\u001b[0m\u001b[0mstates\u001b[0m\u001b[0;34m[\u001b[0m\u001b[0mt\u001b[0m\u001b[0;34m,\u001b[0m \u001b[0;34m:\u001b[0m\u001b[0;34m]\u001b[0m\u001b[0;34m,\u001b[0m \u001b[0mX\u001b[0m\u001b[0;34m[\u001b[0m\u001b[0mt\u001b[0m\u001b[0;34m,\u001b[0m \u001b[0;34m:\u001b[0m\u001b[0;34m]\u001b[0m\u001b[0;34m]\u001b[0m\u001b[0;34m)\u001b[0m\u001b[0;34m\u001b[0m\u001b[0;34m\u001b[0m\u001b[0m\n\u001b[1;32m    250\u001b[0m             \u001b[0;31m# Predict\u001b[0m\u001b[0;34m\u001b[0m\u001b[0;34m\u001b[0m\u001b[0;34m\u001b[0m\u001b[0m\n\u001b[0;32m--> 251\u001b[0;31m             \u001b[0my_pred\u001b[0m\u001b[0;34m[\u001b[0m\u001b[0mt\u001b[0m\u001b[0;34m,\u001b[0m \u001b[0;34m:\u001b[0m\u001b[0;34m]\u001b[0m \u001b[0;34m=\u001b[0m \u001b[0mself\u001b[0m\u001b[0;34m.\u001b[0m\u001b[0mW_out_\u001b[0m \u001b[0;34m@\u001b[0m \u001b[0mfull_states\u001b[0m\u001b[0;34m\u001b[0m\u001b[0;34m\u001b[0m\u001b[0m\n\u001b[0m\u001b[1;32m    252\u001b[0m \u001b[0;34m\u001b[0m\u001b[0m\n\u001b[1;32m    253\u001b[0m         \u001b[0;31m# Store reservoir activity\u001b[0m\u001b[0;34m\u001b[0m\u001b[0;34m\u001b[0m\u001b[0;34m\u001b[0m\u001b[0m\n",
      "\u001b[0;31mKeyboardInterrupt\u001b[0m: "
     ]
    }
   ],
   "source": [
    "max_lag = 70\n",
    "param_grid = {\n",
    "    'n_transient': [50, 100, 150],\n",
    "    'spectral_radius': [0.8, 0.9, 1.0],\n",
    "    'input_scaling': [1e-2, 1e-3, 1e-4, 1e-5, 1e-6, 1e-7, 1e-8],\n",
    "    'leak_rate': [0.6, 0.8, 1],\n",
    "    'bias': [0],\n",
    "    'random_state': [42]\n",
    "}\n",
    "# Generate random data\n",
    "data = generate_data(5000)\n",
    "\n",
    "# Split data into training and testing sets\n",
    "train_data = data[4000:]\n",
    "test_data = data[:1000]\n",
    "grid = ParameterGrid(param_grid)\n",
    "\n",
    "best_score = float('-inf')  \n",
    "best_params = None\n",
    "\n",
    "for params in grid:\n",
    "    esn = ESNRegressor(**params)\n",
    "    _, total_memory_capacity = compute_memory_capacity(esn, train_data, test_data, max_lag)\n",
    "    \n",
    "    if total_memory_capacity > best_score:  \n",
    "        best_score = total_memory_capacity\n",
    "        best_params = params"
   ]
  },
  {
   "cell_type": "code",
   "execution_count": 41,
   "id": "567b03d5",
   "metadata": {},
   "outputs": [],
   "source": [
    "def get_avg_memory_capacities(directory, data, max_lag, W_in, max_num_files=None):\n",
    "    train_data = data[4000:]\n",
    "    test_data = data[:1000]\n",
    "    files = os.listdir(directory)\n",
    "    \n",
    "    if max_num_files is None:\n",
    "        max_num_files = len(files)\n",
    "    \n",
    "    memory_capacities = np.zeros(max_num_files)\n",
    "    for (i, file) in enumerate(files):\n",
    "        if i > max_num_files:\n",
    "            return memory_capacities\n",
    "        if file.endswith(\".pkl\"):\n",
    "            filepath = os.path.join(directory, file)\n",
    "            subject = file[:-4]\n",
    "            # Open the pickle file and load the matrix\n",
    "            with open(filepath, 'rb') as pickle_file:\n",
    "                \n",
    "                matrix = pickle.load(pickle_file)\n",
    "                connectivity_matrix = preprocess_connectivity_matrix(matrix.to_numpy())\n",
    "               \n",
    "                # Reservoir follows the connectivity matrix of a person with ADHD\n",
    "                esn = ESNRegressor(n_transient=50,\n",
    "                           input_scaling=1e-8,\n",
    "                           spectral_radius=0.9,\n",
    "                           leak_rate=1,\n",
    "                           bias=0,\n",
    "                           W_in=W_in,\n",
    "                           W=connectivity_matrix)\n",
    "                \n",
    "                _, total_memory_capacity = compute_memory_capacity(esn, train_data, test_data, max_lag)\n",
    "                memory_capacities[i] = total_memory_capacity\n",
    "    return memory_capacities"
   ]
  },
  {
   "cell_type": "code",
   "execution_count": 52,
   "id": "d5d26f13",
   "metadata": {},
   "outputs": [],
   "source": [
    "def plot_violin_with_box_and_mean(types_name, types_data, plot_title, x_label, y_label):\n",
    "    # Create a DataFrame for easier plotting with Seaborn\n",
    "    data = []\n",
    "    for name, d in zip(types_name, types_data):\n",
    "        data.extend([(name, value) for value in d])\n",
    "    sns.set(style=\"darkgrid\")\n",
    "    df = pd.DataFrame(data, columns=['Species', 'Value'])\n",
    "    \n",
    "    # Plotting with Seaborn\n",
    "    plt.figure(figsize=(10, 6))\n",
    "    sns.violinplot(x='Species', y='Value', data=df, palette=\"pastel\", hue='Species', inner=\"box\")\n",
    "    \n",
    "    # Calculate means and plot them\n",
    "    means = df.groupby('Species')['Value'].mean().values\n",
    "    for i, mean in enumerate(means):\n",
    "        plt.text(i, mean, f'mean: {mean:.2f}', ha='center', va='center', color='black', fontsize=12)\n",
    "    \n",
    "    plt.title(plot_title)\n",
    "    plt.xlabel(x_label)\n",
    "    plt.ylabel(y_label)\n",
    "    \n",
    "    # Show plot\n",
    "    plt.show()\n"
   ]
  },
  {
   "cell_type": "code",
   "execution_count": 43,
   "id": "a1ea5aa4-2698-490e-973e-cae5be8ea8ba",
   "metadata": {
    "scrolled": true
   },
   "outputs": [],
   "source": [
    "max_lag = 70\n",
    "# Generate random data\n",
    "data = generate_data(5000)\n",
    "W_in = np.random.uniform(low=-1, high=1, size=(112, 1))\n",
    "\n",
    "directory_adhd = Path(\"datasets/HO_datasets_all/ADHD/\")\n",
    "memory_capacities_adhd = get_avg_memory_capacities(directory_adhd, data, max_lag, W_in) "
   ]
  },
  {
   "cell_type": "code",
   "execution_count": 44,
   "id": "c969ac40-c93c-4484-a6e9-d65826a4213f",
   "metadata": {
    "scrolled": true
   },
   "outputs": [],
   "source": [
    "directory_control = Path(\"datasets/HO_datasets_all/Control/\")\n",
    "memory_capacities_control = get_avg_memory_capacities(directory_control, data, max_lag, W_in) "
   ]
  },
  {
   "cell_type": "code",
   "execution_count": 45,
   "id": "45ca2d11-54d1-4615-9fe8-26efafdb278e",
   "metadata": {},
   "outputs": [],
   "source": [
    "np.save('mem_cap_adhd.npy', memory_capacities_adhd)\n",
    "np.save('mem_cap_control.npy', memory_capacities_control)"
   ]
  },
  {
   "cell_type": "code",
   "execution_count": 53,
   "id": "ea7d3aa5",
   "metadata": {},
   "outputs": [
    {
     "data": {
      "image/png": "[encoded data removed]",
      "text/plain": [
       "<Figure size 720x432 with 1 Axes>"
      ]
     },
     "metadata": {},
     "output_type": "display_data"
    }
   ],
   "source": [
    "data = [memory_capacities_adhd, memory_capacities_control]\n",
    "title = 'Memory Capacity of Reservoir with ADHD vs Control'\n",
    "x_label = 'Reservoir type (W)'\n",
    "y_label = 'Memory Capacity'\n",
    "plot_violin_with_box_and_mean(['ADHD', 'Control'], data, title, x_label, y_label)"
   ]
  },
  {
   "cell_type": "code",
   "execution_count": 47,
   "id": "2fcaf98f",
   "metadata": {},
   "outputs": [
    {
     "name": "stdout",
     "output_type": "stream",
     "text": [
      "\n",
      "T-statistic for connectomes: -2.9456243158508557\n",
      "P-value for connectomes: 0.0034247127788623014\n"
     ]
    }
   ],
   "source": [
    "# Two-tailed t-test for independent samples\n",
    "t_statistic_g, p_value_g = ttest_ind(memory_capacities_adhd, memory_capacities_control)\n",
    "\n",
    "print(\"\")\n",
    "print(\"T-statistic for connectomes:\", t_statistic_g)\n",
    "print(\"P-value for connectomes:\", p_value_g)"
   ]
  },
  {
   "cell_type": "code",
   "execution_count": null,
   "id": "a08a44d5-6022-4b80-8d81-480443dbaab2",
   "metadata": {},
   "outputs": [],
   "source": []
  }
 ],
 "metadata": {
  "kernelspec": {
   "display_name": "Python 3 (ipykernel)",
   "language": "python",
   "name": "python3"
  },
  "language_info": {
   "codemirror_mode": {
    "name": "ipython",
    "version": 3
   },
   "file_extension": ".py",
   "mimetype": "text/x-python",
   "name": "python",
   "nbconvert_exporter": "python",
   "pygments_lexer": "ipython3",
   "version": "3.8.19"
  }
 },
 "nbformat": 4,
 "nbformat_minor": 5
}
